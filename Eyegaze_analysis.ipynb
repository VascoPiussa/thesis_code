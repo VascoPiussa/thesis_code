{
  "cells": [
    {
      "cell_type": "markdown",
      "metadata": {
        "id": "view-in-github",
        "colab_type": "text"
      },
      "source": [
        "<a href=\"https://colab.research.google.com/github/VascoPiussa/thesis_code/blob/main/Eyegaze_analysis.ipynb\" target=\"_parent\"><img src=\"https://colab.research.google.com/assets/colab-badge.svg\" alt=\"Open In Colab\"/></a>"
      ]
    },
    {
      "cell_type": "markdown",
      "metadata": {
        "id": "2cX-pqqCqr_q"
      },
      "source": [
        "# Start"
      ]
    },
    {
      "cell_type": "markdown",
      "metadata": {
        "id": "aF7iVKdDNDCk"
      },
      "source": [
        "Analysis of the Eye gaze dataset, focusing on the number of gazes per region (bounding box)"
      ]
    },
    {
      "cell_type": "code",
      "execution_count": null,
      "metadata": {
        "colab": {
          "base_uri": "https://localhost:8080/"
        },
        "id": "Pb7Quwuuqqyl",
        "outputId": "ad66a120-efe4-4e61-b76d-ee1d93e7f4d4"
      },
      "outputs": [
        {
          "output_type": "stream",
          "name": "stdout",
          "text": [
            "Mounted at /content/drive\n"
          ]
        }
      ],
      "source": [
        "from google.colab import drive\n",
        "drive.mount('/content/drive')"
      ]
    },
    {
      "cell_type": "code",
      "execution_count": null,
      "metadata": {
        "id": "DuRXXhUhMzhB"
      },
      "outputs": [],
      "source": [
        "import numpy as np\n",
        "import pandas as pd\n",
        "\n",
        "from scipy.spatial.distance import jensenshannon as js\n",
        "from matplotlib import pyplot as plt"
      ]
    },
    {
      "cell_type": "markdown",
      "metadata": {
        "id": "Kxeg29I-M6y3"
      },
      "source": [
        "# Load Data"
      ]
    },
    {
      "cell_type": "markdown",
      "source": [
        "## Get data from the Eyegaze dataset\n"
      ],
      "metadata": {
        "id": "CMmOee9p9cv0"
      }
    },
    {
      "cell_type": "code",
      "execution_count": null,
      "metadata": {
        "colab": {
          "base_uri": "https://localhost:8080/"
        },
        "id": "z3Kjo-T9M6Pb",
        "outputId": "2cdb1d4e-83e7-4501-a864-ce783e69d305"
      },
      "outputs": [
        {
          "output_type": "stream",
          "name": "stdout",
          "text": [
            "part 1 done\n",
            "part 2 done\n",
            "part 3 done\n"
          ]
        }
      ],
      "source": [
        "def get_bb_from_point(bb: dict, point: list) -> list:\n",
        "  bboxes = []\n",
        "  flag = -1\n",
        "  for key in bb:\n",
        "    if key != 'nothing':\n",
        "      if point[0] >= bb[key][0] and point[0] <= bb[key][1] and point[1] >= bb[key][2] and point[1] <= bb[key][3]:\n",
        "        bboxes.append(key)\n",
        "  if len(bboxes) == 0:\n",
        "    bboxes.append('nothing')\n",
        "  return bboxes\n",
        "\n",
        "def get_gaze_bb(df:pd.DataFrame):\n",
        "  stamp = -1\n",
        "  bb = {}\n",
        "  result_dic_silent = {'cardiac silhouette':0, 'left clavicle':0, 'left costophrenic angle':0,\n",
        "                        'left hilar structures':0, 'left lower lung zone':0, 'left lung':0,\n",
        "                        'left mid lung zone':0, 'left upper lung zone':0, 'right clavicle':0,\n",
        "                        'right costophrenic angle':0, 'right hilar structures':0, 'right lower lung zone':0,\n",
        "                        'right lung':0, 'right mid lung zone':0, 'right upper lung zone':0,\n",
        "                        'trachea':0, 'upper mediastinum':0, 'nothing':0}\n",
        "\n",
        "  result_dic_report = {'cardiac silhouette':0, 'left clavicle':0, 'left costophrenic angle':0,\n",
        "                        'left hilar structures':0, 'left lower lung zone':0, 'left lung':0,\n",
        "                        'left mid lung zone':0, 'left upper lung zone':0, 'right clavicle':0,\n",
        "                        'right costophrenic angle':0, 'right hilar structures':0, 'right lower lung zone':0,\n",
        "                        'right lung':0, 'right mid lung zone':0, 'right upper lung zone':0,\n",
        "                        'trachea':0, 'upper mediastinum':0, 'nothing':0}\n",
        "  # master_sheet.csv iter\n",
        "  for idx, row in df.iterrows():\n",
        "    patient_id = row['patient_id']\n",
        "    trans = pd.read_json(xami_path + \"patient_\" + str(row['patient_id']) + \"/EyeGaze/\" + \"/audio_segmentation_transcripts/\" + str(row['dicom_id']) + \"/transcript.json\")\n",
        "    if len(trans['time_stamped_text']) > 0:\n",
        "      stamp = trans['time_stamped_text'][0]['begin_time']\n",
        "    bbd = pd.read_csv(xami_path + \"patient_\" + str(row['patient_id']) + \"/EyeGaze/bounding_boxes.csv\")\n",
        "    bbdf = pd.DataFrame(bbd)\n",
        "    for idx, row in bbdf.iterrows():\n",
        "      bb[row['bbox_name']]= [row['x1'], row['x2'], row['y1'], row['y2']]\n",
        "    egd = pd.read_csv(xami_path + \"patient_\" + str(patient_id) + \"/EyeGaze/gaze.csv\")\n",
        "    egdf = pd.DataFrame(egd)\n",
        "    for idx, row in egdf.iterrows():\n",
        "      point = [row['X_ORIGINAL'], row['Y_ORIGINAL']]\n",
        "      bboxes = get_bb_from_point(bb, point)\n",
        "      for key in bboxes:\n",
        "        if row['Time (in secs)'] < stamp:\n",
        "          result_dic_silent[key] = result_dic_silent.get(key) + 1\n",
        "        else:\n",
        "          result_dic_report[key] = result_dic_report.get(key) + 1\n",
        "  return result_dic_silent, result_dic_report\n",
        "\n",
        "# contains bounding_boxes.csv\n",
        "master_path = \"/content/drive/MyDrive/Datasets/Eye-Gaze/master_sheet.csv\"\n",
        "xami_path = \"/content/drive/MyDrive/XAMI-MIMIC/XAMI-MIMIC/\"\n",
        "\n",
        "master_data = pd.read_csv(master_path)\n",
        "master_df = pd.DataFrame(master_data)\n",
        "\n",
        "# separate by disease\n",
        "normaldf = master_df.loc[master_df['Normal'] == 1]\n",
        "chfdf = master_df.loc[master_df['CHF'] == 1]\n",
        "pneumoniadf = master_df.loc[master_df['pneumonia'] == 1]\n",
        "\n",
        "ns, nr = get_gaze_bb(normaldf)\n",
        "print(\"part 1 done\")\n",
        "chfs, chfr = get_gaze_bb(chfdf)\n",
        "print(\"part 2 done\")\n",
        "ps, pr = get_gaze_bb(pneumoniadf)\n",
        "print(\"part 3 done\")\n"
      ]
    },
    {
      "cell_type": "markdown",
      "source": [
        "## Load Data into csv files"
      ],
      "metadata": {
        "id": "ZOV2uAku9Vus"
      }
    },
    {
      "cell_type": "code",
      "source": [
        "def normalize_values(df: pd.DataFrame) -> list:\n",
        "  num_gazes = sum(df['#Gazes'])\n",
        "  n = []\n",
        "  for idx, row in df.iterrows():\n",
        "    n.append(row['#Gazes'] / num_gazes)\n",
        "  return n\n",
        "\n",
        "print(\"NORMAL: \", max(ns), ns.get(max(ns)), max(nr), nr.get(max(nr)))\n",
        "print(\"CHF: \", max(chfs), chfs.get(max(chfs)), max(chfr), chfr.get(max(chfr)))\n",
        "print(\"PNEUMO: \", max(ps), ps.get(max(ps)),max(pr), pr.get(max(pr)))\n",
        "\n",
        "# create df from dict\n",
        "nsdf = pd.DataFrame(ns.items(), columns=[\"Bounding Box\", \"#Gazes\"])\n",
        "nrdf = pd.DataFrame(nr.items(), columns=[\"Bounding Box\", \"#Gazes\"])\n",
        "chfsdf = pd.DataFrame(chfs.items(), columns=[\"Bounding Box\", \"#Gazes\"])\n",
        "chfrdf = pd.DataFrame(chfr.items(), columns=[\"Bounding Box\", \"#Gazes\"])\n",
        "psdf = pd.DataFrame(ps.items(), columns=[\"Bounding Box\", \"#Gazes\"])\n",
        "prdf = pd.DataFrame(pr.items(), columns=[\"Bounding Box\", \"#Gazes\"])\n",
        "\n",
        "# add a normalized column\n",
        "nsdf['Normalized Gazes'] = normalize_values(nsdf)\n",
        "nrdf['Normalized Gazes'] = normalize_values(nrdf)\n",
        "chfsdf['Normalized Gazes'] = normalize_values(chfsdf)\n",
        "chfrdf['Normalized Gazes'] = normalize_values(chfrdf)\n",
        "psdf['Normalized Gazes'] = normalize_values(psdf)\n",
        "prdf['Normalized Gazes'] = normalize_values(prdf)\n",
        "\n",
        "# write to csv\n",
        "with open(\"/content/drive/MyDrive/ThesisWork/Normal_Silent_Gazes_per_BB.csv\", 'w') as f:\n",
        "  nsdf.to_csv(f)\n",
        "with open(\"/content/drive/MyDrive/ThesisWork/Normal_Report_Gazes_per_BB.csv\", 'w') as f:\n",
        "  nrdf.to_csv(f)\n",
        "with open(\"/content/drive/MyDrive/ThesisWork/CHF_Silent_Gazes_per_BB.csv\", 'w') as f:\n",
        "  chfsdf.to_csv(f)\n",
        "with open(\"/content/drive/MyDrive/ThesisWork/CHF_Report_Gazes_per_BB.csv\", 'w') as f:\n",
        "  chfrdf.to_csv(f)\n",
        "with open(\"/content/drive/MyDrive/ThesisWork/Pneumonia_Silent_Gazes_per_BB.csv\", 'w') as f:\n",
        "  psdf.to_csv(f)\n",
        "with open(\"/content/drive/MyDrive/ThesisWork/Pneumonia_Report_Gazes_per_BB.csv\", 'w') as f:\n",
        "  prdf.to_csv(f)"
      ],
      "metadata": {
        "colab": {
          "base_uri": "https://localhost:8080/"
        },
        "id": "RhbQcG7c6Dey",
        "outputId": "4ea13b65-3101-4f5b-fa76-b12b9ee43e62"
      },
      "execution_count": null,
      "outputs": [
        {
          "output_type": "stream",
          "name": "stdout",
          "text": [
            "NORMAL:  upper mediastinum 19742 upper mediastinum 56184\n",
            "CHF:  upper mediastinum 18545 upper mediastinum 75003\n",
            "PNEUMO:  upper mediastinum 18406 upper mediastinum 69065\n"
          ]
        }
      ]
    },
    {
      "cell_type": "markdown",
      "source": [
        "# Analysis\n"
      ],
      "metadata": {
        "id": "FDvQzazF9g3R"
      }
    },
    {
      "cell_type": "markdown",
      "source": [
        "## Unload the data"
      ],
      "metadata": {
        "id": "NtzvRNrN9kEl"
      }
    },
    {
      "cell_type": "code",
      "source": [
        "csv_path = \"/content/drive/MyDrive/ThesisWork/\"\n",
        "nsdf = pd.DataFrame(pd.read_csv(csv_path + \"Normal_Silent_Gazes_per_BB.csv\"))\n",
        "nrdf = pd.DataFrame(pd.read_csv(csv_path + \"Normal_Report_Gazes_per_BB.csv\"))\n",
        "chfsdf = pd.DataFrame(pd.read_csv(csv_path + \"CHF_Silent_Gazes_per_BB.csv\"))\n",
        "chfrdf = pd.DataFrame(pd.read_csv(csv_path + \"CHF_Report_Gazes_per_BB.csv\"))\n",
        "psdf = pd.DataFrame(pd.read_csv(csv_path + \"Pneumonia_Silent_Gazes_per_BB.csv\"))\n",
        "prdf = pd.DataFrame(pd.read_csv(csv_path + \"Pneumonia_Report_Gazes_per_BB.csv\"))"
      ],
      "metadata": {
        "id": "bg44zmwB9sk1"
      },
      "execution_count": null,
      "outputs": []
    },
    {
      "cell_type": "markdown",
      "source": [
        "## Jensen-Shannon Divergence"
      ],
      "metadata": {
        "id": "m8xHHgMq9meQ"
      }
    },
    {
      "cell_type": "code",
      "source": [
        "def js_divergence(df1:pd.DataFrame, df2:pd.DataFrame):\n",
        "  # Jensen-Shannon divergence\n",
        "  return js(list(df1['Normalized Gazes']), list(df2['Normalized Gazes']))\n",
        "\n",
        "print(js_divergence(nsdf, nrdf))\n",
        "print(js_divergence(chfsdf, chfrdf))\n",
        "print(js_divergence(psdf, prdf))\n",
        "print(js_divergence(nsdf, chfsdf))\n",
        "print(js_divergence(nsdf, psdf))\n",
        "print(js_divergence(chfsdf, psdf))\n",
        "print(js_divergence(nrdf, chfrdf))\n",
        "print(js_divergence(nrdf, prdf))\n",
        "print(js_divergence(chfrdf, prdf))"
      ],
      "metadata": {
        "id": "olBwRzw59p5R",
        "colab": {
          "base_uri": "https://localhost:8080/"
        },
        "outputId": "ca47b3e5-adcf-4efd-ecb9-d3765f67ba4c"
      },
      "execution_count": null,
      "outputs": [
        {
          "output_type": "stream",
          "name": "stdout",
          "text": [
            "test,  0.0\n"
          ]
        }
      ]
    },
    {
      "cell_type": "markdown",
      "source": [
        "## TOP 5"
      ],
      "metadata": {
        "id": "FevVYAtUi86x"
      }
    },
    {
      "cell_type": "code",
      "source": [
        "print(nsdf.sort_values(by=['#Gazes'], ascending=False).head(5))\n",
        "print(\"_-------------------------_\")\n",
        "print(nrdf.sort_values(by=['#Gazes'], ascending=False).head(5))\n",
        "print(\"_-------------------------_\")\n",
        "print(chfsdf.sort_values(by=['#Gazes'], ascending=False).head(5))\n",
        "print(\"_-------------------------_\")\n",
        "print(chfrdf.sort_values(by=['#Gazes'], ascending=False).head(5))\n",
        "print(\"_-------------------------_\")\n",
        "print(psdf.sort_values(by=['#Gazes'], ascending=False).head(5))\n",
        "print(\"_-------------------------_\")\n",
        "print(prdf.sort_values(by=['#Gazes'], ascending=False).head(5))"
      ],
      "metadata": {
        "colab": {
          "base_uri": "https://localhost:8080/"
        },
        "id": "PbIi8RlMhYNn",
        "outputId": "e09fc563-812e-4e52-bea4-ac22ae876aa0"
      },
      "execution_count": null,
      "outputs": [
        {
          "output_type": "stream",
          "name": "stdout",
          "text": [
            "    Unnamed: 0        Bounding Box  #Gazes  Normalized Gazes\n",
            "15          15             trachea   20790          0.136173\n",
            "16          16   upper mediastinum   19742          0.129309\n",
            "12          12          right lung   19158          0.125484\n",
            "5            5           left lung   18300          0.119864\n",
            "0            0  cardiac silhouette   13571          0.088889\n",
            "_-------------------------_\n",
            "    Unnamed: 0          Bounding Box  #Gazes  Normalized Gazes\n",
            "5            5             left lung  107424          0.164108\n",
            "12          12            right lung   95703          0.146203\n",
            "15          15               trachea   58200          0.088910\n",
            "16          16     upper mediastinum   56184          0.085831\n",
            "7            7  left upper lung zone   41677          0.063669\n",
            "_-------------------------_\n",
            "    Unnamed: 0        Bounding Box  #Gazes  Normalized Gazes\n",
            "5            5           left lung   21886          0.145333\n",
            "16          16   upper mediastinum   18545          0.123147\n",
            "15          15             trachea   16452          0.109249\n",
            "12          12          right lung   16099          0.106905\n",
            "0            0  cardiac silhouette   15558          0.103312\n",
            "_-------------------------_\n",
            "    Unnamed: 0        Bounding Box  #Gazes  Normalized Gazes\n",
            "5            5           left lung  203449          0.168727\n",
            "12          12          right lung  195183          0.161872\n",
            "17          17             nothing   79067          0.065573\n",
            "0            0  cardiac silhouette   78821          0.065369\n",
            "16          16   upper mediastinum   75003          0.062202\n",
            "_-------------------------_\n",
            "    Unnamed: 0        Bounding Box  #Gazes  Normalized Gazes\n",
            "5            5           left lung   25259          0.140388\n",
            "12          12          right lung   22835          0.126915\n",
            "15          15             trachea   19492          0.108335\n",
            "16          16   upper mediastinum   18406          0.102299\n",
            "0            0  cardiac silhouette   17936          0.099687\n",
            "_-------------------------_\n",
            "    Unnamed: 0          Bounding Box  #Gazes  Normalized Gazes\n",
            "12          12            right lung  205810          0.175586\n",
            "5            5             left lung  188729          0.161014\n",
            "17          17               nothing   75505          0.064417\n",
            "16          16     upper mediastinum   69065          0.058923\n",
            "7            7  left upper lung zone   64519          0.055044\n"
          ]
        }
      ]
    },
    {
      "cell_type": "code",
      "source": [
        "import pandas as pd\n",
        "\n",
        "silent_path = '/content/drive/MyDrive/ThesisWork/BB_CLASS/REFLACX_all_gazes_silent.csv'\n",
        "report_path = '/content/drive/MyDrive/ThesisWork/BB_CLASS/REFLACX_all_gazes_report.csv'\n",
        "\n",
        "silentdf = pd.DataFrame(pd.read_csv(silent_path))\n",
        "reportdf = pd.DataFrame(pd.read_csv(report_path))\n",
        "\n",
        "hsdf = silentdf.loc[silentdf.Total == 0]\n",
        "hrdf = silentdf.loc[silentdf.Total != 0]\n",
        "usdf = reportdf.loc[reportdf.Total == 0]\n",
        "urdf = reportdf.loc[reportdf.Total != 0]\n",
        "\n",
        "print(len(hsdf))\n",
        "print(len(hrdf))\n",
        "print(len(usdf))\n",
        "print(len(urdf))"
      ],
      "metadata": {
        "colab": {
          "base_uri": "https://localhost:8080/"
        },
        "id": "WkvkJIgMY0uN",
        "outputId": "81c129d8-bdf3-4591-d2e0-8b8b697a2464"
      },
      "execution_count": null,
      "outputs": [
        {
          "output_type": "stream",
          "name": "stdout",
          "text": [
            "12358897\n",
            "27426068\n",
            "12358897\n",
            "27444029\n"
          ]
        }
      ]
    }
  ],
  "metadata": {
    "colab": {
      "provenance": [],
      "toc_visible": true,
      "authorship_tag": "ABX9TyMXa56LkTL6uQDQ+kTsJzDN",
      "include_colab_link": true
    },
    "kernelspec": {
      "display_name": "Python 3",
      "name": "python3"
    },
    "language_info": {
      "name": "python"
    }
  },
  "nbformat": 4,
  "nbformat_minor": 0
}